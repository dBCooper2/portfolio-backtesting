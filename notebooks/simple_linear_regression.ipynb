{
 "cells": [
  {
   "cell_type": "markdown",
   "metadata": {},
   "source": [
    "# __Simple Linear Regression in Python__\n",
    "\n",
    "By: Trevor Rowland ([dBCooper2](https://github.com/dBCooper2))\n",
    "\n",
    "Creating a Linear Regression Model from scratch to run CAPM Analysis and Fama-French Models"
   ]
  },
  {
   "cell_type": "markdown",
   "metadata": {},
   "source": [
    "## The Theory\n",
    "\n",
    "This regression model uses an Ordinary Least Squares(OLS) approach to regression. The OLS model plots a line on a scatter plot, measures how far away it is from each point, then iteratively adjusts the slope and y-intercept in the linear equation to provide the line of best fit for the data.\n",
    "\n",
    "_How does this happen?_\n",
    "\n",
    "The Regression Model plots a line through all of the points in our dataset. If we take the sum of all the 'errors' in our line, which can be defined as the difference between the actual $y$-value from our data and the predicted $y$-value from our regression line. Squaring those errors and dividing that sum of all squared errors by the number of y-values gives us a measure called the __Mean Squared Error__, or MSE:\n",
    "\n",
    "$$MSE=\\frac{1}{n} \\sum_{i=0}^{n}(Y_i - \\hat{Y}_i)^2$$\n",
    "\n",
    "given\n",
    "\n",
    "$$ \\hat{Y}_i = mx_i+b$$"
   ]
  },
  {
   "cell_type": "markdown",
   "metadata": {},
   "source": [
    "### Mean Squared Error\n",
    "\n",
    "__The Mean Squared Error tells us what our average error is__, and to make the best-fit regression line, we need to __minimize that error__. \n",
    "\n",
    "Because our data cannot be modified, to develop the best-fit regression line we can only modify our slope($m$) and our y-intercept($b$). This involves iterating over many different calculated values of $m$ and $b$, so how will the program know how to adjust the values across iterations?\n",
    "\n",
    "The program will adjust the values by calculating the gradient descent of our Error($E$) with respect to $m$ and with respect to $b$. This can be done using partial derivatives of the Error function to find the fastest way to increase our Error because derivatives measure a rate of change. Because we want a gradient _descent_ instead of ascent, which is what the partial derivative will calculate, we can simply use it's inverse to find the fastest way to decrease the error. Here are the calculations to find those gradient descent functions:\n",
    "\n",
    "$$ MSE = E(\\hat{Y}_i) = (\\frac{1}{n}) \\sum_{i=0}^{n}(Y_i - \\hat{Y}_i)^2$$\n",
    "\n",
    "which decomposes into:\n",
    "\n",
    "$$ MSE = E(m,b) = (\\frac{1}{n}) \\sum_{i=0}^{n}(Y_i - (mx_i+b))^2$$\n",
    "\n",
    "and for easier calculations, can be fully expanded into:\n",
    "\n",
    "$$ E(m,b) = (\\frac{1}{n}) \\sum_{i=0}^{n}(Y_i^2 -2Y_imx_i-2Y_ib+m^2x_i^2+2mx_ib+b^2)$$"
   ]
  },
  {
   "cell_type": "markdown",
   "metadata": {},
   "source": [
    "### Partial Derivatives of the Error Function\n",
    "\n",
    "Taking the Partial Derivative of E(m,b) with respect to m:\n",
    "\n",
    "$$(\\frac{\\partial}{\\partial m})E(m,b) = (\\frac{\\partial}{\\partial m})(\\frac{1}{n}) \\sum_{i=0}^{n}(Y_i^2 -2Y_imx_i-2Y_ib+m^2x_i^2+2mx_ib+b^2)$$\n",
    "\n",
    "$$\\frac{\\partial E}{\\partial m} = (\\frac{1}{n}) \\sum_{i=0}^{n}( -2Y_ix_i+2mx_i^2+2x_ib)$$\n",
    "\n",
    "$$\\frac{\\partial E}{\\partial m} = (\\frac{-2}{n}) \\sum_{i=0}^{n}(Y_ix_i-mx_i^2-x_ib)$$\n",
    "\n",
    "$$\\frac{\\partial E}{\\partial m} = (\\frac{-2}{n}) \\sum_{i=0}^{n}x_i(Y_i-mx_i-b)$$\n",
    "\n",
    "$$\\frac{\\partial E}{\\partial m} = (\\frac{-2}{n}) \\sum_{i=0}^{n}[x_i(Y_i-(mx_i+b))]$$\n",
    "\n",
    "Taking the Partial Derivative of E(m,b) with respect to b:\n",
    "\n",
    "$$(\\frac{\\partial}{\\partial b})E(m,b) = (\\frac{\\partial}{\\partial b})(\\frac{1}{n}) \\sum_{i=0}^{n}(Y_i^2 -2Y_imx_i-2Y_ib+m^2x_i^2+2mx_ib+b^2)$$\n",
    "\n",
    "$$\\frac{\\partial E}{\\partial b} = (\\frac{1}{n}) \\sum_{i=0}^{n}(-2Y_i+2mx_i+2b)$$\n",
    "\n",
    "$$\\frac{\\partial E}{\\partial b} = (\\frac{-2}{n}) \\sum_{i=0}^{n}(Y_i-mx_i-b)$$\n",
    "\n",
    "$$\\frac{\\partial E}{\\partial b} = (\\frac{-2}{n}) \\sum_{i=0}^{n}(Y_i-(mx_i+b))$$\n",
    "\n",
    "After these calculations, we are left with the partial derivatives of our error function:\n",
    "\n",
    "$$\\frac{\\partial E}{\\partial m} = (\\frac{-2}{n}) \\sum_{i=0}^{n}[x_i(Y_i-(mx_i+b))]$$\n",
    "\n",
    "$$\\frac{\\partial E}{\\partial b} = (\\frac{-2}{n}) \\sum_{i=0}^{n}(Y_i-(mx_i+b))$$"
   ]
  },
  {
   "cell_type": "markdown",
   "metadata": {},
   "source": [
    "### The Gradient Descent\n",
    "\n",
    "The gradient descent function is calculated by subtracting our partial derivative from the current value of $m$ or $b$, respectively, so our equations for the learning rate look like this:\n",
    "\n",
    "$$m_{new} = m_{current} - \\frac{\\partial E}{\\partial m}$$\n",
    "\n",
    "$$b_{new} = m_{current} - \\frac{\\partial E}{\\partial b}$$\n",
    "\n",
    "This would be great if the program was going to run all at once, but because the regression function will be calculated iteratively, we need to multiply the partial derivatives by a constant to set the step size for each iteration. This is known as the __Learning Rate__, and will be denoted by $L$, making the gradient descent functions: \n",
    "\n",
    "$$m_{new} = m_{current} - L\\frac{\\partial E}{\\partial m}$$\n",
    "\n",
    "$$b_{new} = m_{current} - L\\frac{\\partial E}{\\partial b}$$\n",
    "\n",
    "where $0 < L <1$\n",
    "\n",
    "We will set the learning rate value later, but the important thing to note now is that the smaller the learning rate or step size, the more accurate our model will theoretically be. For example, $L=.1$ is going to be less precise than $L=.001$, which is less precise than $L=.00001$, and so on."
   ]
  },
  {
   "cell_type": "markdown",
   "metadata": {},
   "source": [
    "## Applying the Theory to Python\n",
    "\n",
    "To apply the calculations we just performed on our Error function in python, we need to define our gradient descent function in python, and then iterate over calls to that function."
   ]
  },
  {
   "cell_type": "markdown",
   "metadata": {},
   "source": [
    "### Gradient Descent Function"
   ]
  },
  {
   "cell_type": "code",
   "execution_count": 2,
   "metadata": {},
   "outputs": [],
   "source": [
    "def gradient_descent(m_current, b_current, df, learning_rate):\n",
    "    m_gradient = 0\n",
    "    b_gradient = 0\n",
    "\n",
    "    n = len(df) # The number of rows in the dataset\n",
    "\n",
    "    # Calculate the partial derivative summations\n",
    "    for i in range(n):\n",
    "        x = df.iloc[i].x\n",
    "        y = df.iloc[i].y\n",
    "\n",
    "        # These are a pythonic representation of partial derivative equations found in the theory section\n",
    "        m_gradient += (-2/n) * x * (y - (m_current * x + b_current))\n",
    "        b_gradient += (-2/n) * (y - (m_current * x + b_current))\n",
    "\n",
    "    # Calculate the Gradient Descent equations from the theory section\n",
    "    m = m_current - learning_rate * m_gradient\n",
    "    b = b_current - learning_rate * b_gradient\n",
    "\n",
    "    return m,b"
   ]
  },
  {
   "cell_type": "markdown",
   "metadata": {},
   "source": [
    "### Performing Linear Regression\n",
    "\n",
    "Now that we have the gradient descent function, we can write a function that iteratively calls gradient_descent(), minimizing the error of our regression line"
   ]
  },
  {
   "cell_type": "code",
   "execution_count": 3,
   "metadata": {},
   "outputs": [],
   "source": [
    "def ols_regression(learning_rate, iterations, df):\n",
    "    m = 0\n",
    "    b = 0\n",
    "\n",
    "    for i in range(iterations):\n",
    "        m,b = gradient_descent(m, b, df, learning_rate)\n",
    "\n",
    "    return m,b"
   ]
  },
  {
   "cell_type": "markdown",
   "metadata": {},
   "source": [
    "### Testing the Linear Regression Model\n",
    "\n",
    "To apply the functions we defined, we need to take a dataset and perform the regression on it. The [dataset](https://www.kaggle.com/datasets/luddarell/101-simple-linear-regressioncsv?resource=download) I am using is just a simple CSV file by [luddarell](https://www.kaggle.com/luddarell) from [kaggle](https://www.kaggle.com/)."
   ]
  },
  {
   "cell_type": "code",
   "execution_count": 11,
   "metadata": {},
   "outputs": [],
   "source": [
    "import pandas as pd\n",
    "\n",
    "# Import the Data\n",
    "file = '/Users/dB/Documents/repos/github/portfolio-backtesting/docs/data/1.01_Simple_linear_regression.csv'\n",
    "df = pd.read_csv(file)\n",
    "df = df.rename(columns={\"SAT\":\"y\", \"GPA\":\"x\"})\n"
   ]
  },
  {
   "cell_type": "code",
   "execution_count": 12,
   "metadata": {},
   "outputs": [
    {
     "name": "stdout",
     "output_type": "stream",
     "text": [
      "462.1944641696966 139.10014019170407\n"
     ]
    }
   ],
   "source": [
    "# Run the Regression Model:\n",
    "learning_rate = .00001\n",
    "iterations = 10000\n",
    "m,b = ols_regression(learning_rate, iterations, df)\n",
    "print(m,b)"
   ]
  },
  {
   "cell_type": "code",
   "execution_count": 21,
   "metadata": {},
   "outputs": [
    {
     "data": {
      "image/png": "[encoded data removed]",
      "text/plain": [
       "<Figure size 640x480 with 1 Axes>"
      ]
     },
     "metadata": {},
     "output_type": "display_data"
    }
   ],
   "source": [
    "import matplotlib.pyplot as plt\n",
    "\n",
    "plt.style.use('Solarize_Light2')\n",
    "plt.scatter(df.x, df.y)\n",
    "plt.plot(list(range(2,4)), [m * x + b for x in range(2,4)])\n",
    "plt.show()"
   ]
  },
  {
   "cell_type": "code",
   "execution_count": null,
   "metadata": {},
   "outputs": [],
   "source": []
  }
 ],
 "metadata": {
  "kernelspec": {
   "display_name": ".env",
   "language": "python",
   "name": "python3"
  },
  "language_info": {
   "codemirror_mode": {
    "name": "ipython",
    "version": 3
   },
   "file_extension": ".py",
   "mimetype": "text/x-python",
   "name": "python",
   "nbconvert_exporter": "python",
   "pygments_lexer": "ipython3",
   "version": "3.11.7"
  }
 },
 "nbformat": 4,
 "nbformat_minor": 2
}
